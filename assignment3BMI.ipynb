{
  "cells": [
    {
      "cell_type": "markdown",
      "metadata": {
        "id": "G58gRhtG7UVz"
      },
      "source": [
        "Ananda Salman Alfarezi\n",
        "SI2-06 7915535"
      ]
    },
    {
      "cell_type": "markdown",
      "metadata": {},
      "source": [
        "Problem Statement:\n",
        "-The problem is to make a life expectancy application using user data and BMI"
      ]
    },
    {
      "cell_type": "markdown",
      "metadata": {},
      "source": [
        "Background:\n",
        "-Users has been given a basic task and dataset that has to be used to gain details regarding the datasets"
      ]
    },
    {
      "cell_type": "markdown",
      "metadata": {},
      "source": [
        "Objective:\n",
        "-To process data available and calculate life expetencies"
      ]
    },
    {
      "cell_type": "markdown",
      "metadata": {},
      "source": [
        "1. Data Analysis"
      ]
    },
    {
      "cell_type": "code",
      "execution_count": null,
      "metadata": {
        "colab": {
          "base_uri": "https://localhost:8080/",
          "height": 1000
        },
        "id": "X45Z6MQY6xl-",
        "outputId": "8e48ca70-1622-4eda-8435-65d0684a26f9"
      },
      "outputs": [
        {
          "ename": "",
          "evalue": "",
          "output_type": "error",
          "traceback": [
            "\u001b[1;31mRunning cells with 'c:\\Users\\Rezi Pujoharsoyo\\AppData\\Local\\Microsoft\\WindowsApps\\python3.11.exe' requires the ipykernel package.\n",
            "\u001b[1;31mRun the following command to install 'ipykernel' into the Python environment. \n",
            "\u001b[1;31mCommand: '\"c:/Users/Rezi Pujoharsoyo/AppData/Local/Microsoft/WindowsApps/python3.11.exe\" -m pip install ipykernel -U --user --force-reinstall'"
          ]
        }
      ],
      "source": [
        "import pandas as pd\n",
        "import numpy as np\n",
        "import seaborn as sns\n",
        "import matplotlib.pyplot as plt\n",
        "from sklearn.model_selection import train_test_split\n",
        "from sklearn.preprocessing import LabelEncoder\n",
        "from sklearn.tree import DecisionTreeClassifier\n",
        "from sklearn.ensemble import RandomForestClassifier\n",
        "from sklearn.metrics import accuracy_score, classification_report, confusion_matrix\n",
        "from sklearn.model_selection import GridSearchCV\n",
        "\n",
        "# Load dataset\n",
        "df = pd.read_csv('healthcare-dataset-stroke-data.csv')\n",
        "\n",
        "# Check info dataset\n",
        "print(df.info())\n",
        "\n",
        "# Check missing values\n",
        "print(df.isnull().sum())\n",
        "\n",
        "# Data distribution checking for the numeric column\n",
        "print(df.describe())\n",
        "\n",
        "# Data distribution checking for the numeric column\n",
        "print(df['gender'].value_counts())\n",
        "print(df['ever_married'].value_counts())\n",
        "print(df['work_type'].value_counts())\n",
        "print(df['Residence_type'].value_counts())\n",
        "print(df['smoking_status'].value_counts())\n",
        "print(df['stroke'].value_counts())\n",
        "\n",
        "# Visualization for the Data distribution\n",
        "sns.countplot(x='stroke', data=df)\n",
        "plt.show()\n",
        "sns.countplot(x='gender', hue='stroke', data=df)\n",
        "plt.show()\n",
        "sns.countplot(x='ever_married', hue='stroke', data=df)\n",
        "plt.show()\n",
        "sns.countplot(x='work_type', hue='stroke', data=df)\n",
        "plt.show()\n",
        "sns.countplot(x='Residence_type', hue='stroke', data=df)\n",
        "plt.show()\n",
        "sns.countplot(x='smoking_status', hue='stroke', data=df)\n",
        "plt.show()\n"
      ]
    },
    {
      "cell_type": "markdown",
      "metadata": {
        "id": "dN_L8Oce7cUM"
      },
      "source": [
        "2. Prediction Model"
      ]
    },
    {
      "cell_type": "code",
      "execution_count": 6,
      "metadata": {
        "colab": {
          "base_uri": "https://localhost:8080/"
        },
        "id": "XXU9icC37mQH",
        "outputId": "fcaf942a-fefd-416e-9944-852a7306d6c4"
      },
      "outputs": [
        {
          "name": "stdout",
          "output_type": "stream",
          "text": [
            "Decision Tree:\n",
            "Accuracy: 0.9060665362035225\n",
            "Classification Report:\n",
            "              precision    recall  f1-score   support\n",
            "\n",
            "         0.0       0.95      0.95      0.95       960\n",
            "         1.0       0.19      0.16      0.17        62\n",
            "\n",
            "    accuracy                           0.91      1022\n",
            "   macro avg       0.57      0.56      0.56      1022\n",
            "weighted avg       0.90      0.91      0.90      1022\n",
            "\n",
            "Confusion Matrix:\n",
            "[[916  44]\n",
            " [ 52  10]]\n",
            "Random Forest:\n",
            "Accuracy: 0.9393346379647749\n",
            "Classification Report:\n",
            "              precision    recall  f1-score   support\n",
            "\n",
            "         0.0       0.94      1.00      0.97       960\n",
            "         1.0       0.00      0.00      0.00        62\n",
            "\n",
            "    accuracy                           0.94      1022\n",
            "   macro avg       0.47      0.50      0.48      1022\n",
            "weighted avg       0.88      0.94      0.91      1022\n",
            "\n",
            "Confusion Matrix:\n",
            "[[960   0]\n",
            " [ 62   0]]\n"
          ]
        },
        {
          "name": "stderr",
          "output_type": "stream",
          "text": [
            "/usr/local/lib/python3.10/dist-packages/sklearn/metrics/_classification.py:1344: UndefinedMetricWarning: Precision and F-score are ill-defined and being set to 0.0 in labels with no predicted samples. Use `zero_division` parameter to control this behavior.\n",
            "  _warn_prf(average, modifier, msg_start, len(result))\n",
            "/usr/local/lib/python3.10/dist-packages/sklearn/metrics/_classification.py:1344: UndefinedMetricWarning: Precision and F-score are ill-defined and being set to 0.0 in labels with no predicted samples. Use `zero_division` parameter to control this behavior.\n",
            "  _warn_prf(average, modifier, msg_start, len(result))\n",
            "/usr/local/lib/python3.10/dist-packages/sklearn/metrics/_classification.py:1344: UndefinedMetricWarning: Precision and F-score are ill-defined and being set to 0.0 in labels with no predicted samples. Use `zero_division` parameter to control this behavior.\n",
            "  _warn_prf(average, modifier, msg_start, len(result))\n"
          ]
        }
      ],
      "source": [
        "from sklearn.preprocessing import LabelEncoder\n",
        "from sklearn.model_selection import train_test_split\n",
        "from sklearn.tree import DecisionTreeClassifier\n",
        "from sklearn.ensemble import RandomForestClassifier\n",
        "from sklearn.metrics import accuracy_score, classification_report, confusion_matrix\n",
        "\n",
        "# Preprocessing\n",
        "le = LabelEncoder()\n",
        "df['gender'] = le.fit_transform(df['gender'])\n",
        "df['ever_married'] = le.fit_transform(df['ever_married'])\n",
        "df['work_type'] = le.fit_transform(df['work_type'])\n",
        "df['Residence_type'] = le.fit_transform(df['Residence_type'])\n",
        "df['smoking_status'] = le.fit_transform(df['smoking_status'])\n",
        "\n",
        "# Handle missing values\n",
        "from sklearn.impute import SimpleImputer\n",
        "imputer = SimpleImputer(strategy='median')\n",
        "df_imputed = imputer.fit_transform(df)\n",
        "\n",
        "# Convert back to DataFrame\n",
        "df_imputed = pd.DataFrame(df_imputed, columns=df.columns)\n",
        "\n",
        "# Dividing Attributes from Labels\n",
        "X = df_imputed.drop('stroke', axis=1)\n",
        "y = df_imputed['stroke']\n",
        "\n",
        "# Dividing the data\n",
        "X_train, X_test, y_train, y_test = train_test_split(X, y, test_size=0.2, random_state=42)\n",
        "\n",
        "# Decision Tree\n",
        "dt = DecisionTreeClassifier(random_state=42)\n",
        "dt.fit(X_train, y_train)\n",
        "y_pred_dt = dt.predict(X_test)\n",
        "\n",
        "# Random Forest\n",
        "rf = RandomForestClassifier(random_state=42)\n",
        "rf.fit(X_train, y_train)\n",
        "y_pred_rf = rf.predict(X_test)\n",
        "\n",
        "# Evaluasi Model\n",
        "def evaluate_model(y_true, y_pred):\n",
        "    acc = accuracy_score(y_true, y_pred)\n",
        "    print(\"Accuracy:\", acc)\n",
        "    print(\"Classification Report:\")\n",
        "    print(classification_report(y_true, y_pred))\n",
        "    print(\"Confusion Matrix:\")\n",
        "    print(confusion_matrix(y_true, y_pred))\n",
        "\n",
        "print(\"Decision Tree:\")\n",
        "evaluate_model(y_test, y_pred_dt)\n",
        "\n",
        "print(\"Random Forest:\")\n",
        "evaluate_model(y_test, y_pred_rf)\n"
      ]
    },
    {
      "cell_type": "markdown",
      "metadata": {
        "id": "oXIS3Uo89OK0"
      },
      "source": [
        "3. Hyperparameter Tuning"
      ]
    },
    {
      "cell_type": "code",
      "execution_count": 7,
      "metadata": {
        "colab": {
          "base_uri": "https://localhost:8080/"
        },
        "id": "jH1g9I3g9R45",
        "outputId": "03d948de-41fc-4593-d5e1-0921bf1f8861"
      },
      "outputs": [
        {
          "name": "stdout",
          "output_type": "stream",
          "text": [
            "Best Decision Tree Model: DecisionTreeClassifier(max_depth=5, min_samples_leaf=4, random_state=42,\n",
            "                       splitter='random')\n",
            "Best Random Forest Model: RandomForestClassifier(n_estimators=300, random_state=42)\n"
          ]
        }
      ],
      "source": [
        "# Hyperparameter tuning for Decision Tree\n",
        "param_grid_dt = {\n",
        "    'criterion': ['gini', 'entropy'],\n",
        "    'splitter': ['best', 'random'],\n",
        "    'max_depth': [None, 5, 10, 15, 20],\n",
        "    'min_samples_split': [2, 5, 10],\n",
        "    'min_samples_leaf': [1, 2, 4],\n",
        "}\n",
        "\n",
        "grid_dt = GridSearchCV(dt, param_grid=param_grid_dt, cv=5, n_jobs=-1)\n",
        "grid_dt.fit(X_train, y_train)\n",
        "best_dt = grid_dt.best_estimator_\n",
        "print(\"Best Decision Tree Model:\", best_dt)\n",
        "\n",
        "# Hyperparameter tuning for Random Forest\n",
        "param_grid_rf = {\n",
        "    'n_estimators': [100, 200, 300],\n",
        "    'criterion': ['gini', 'entropy'],\n",
        "    'max_depth': [None, 5, 10, 15, 20],\n",
        "    'min_samples_split': [2, 5, 10],\n",
        "    'min_samples_leaf': [1, 2, 4],\n",
        "}\n",
        "\n",
        "grid_rf = GridSearchCV(rf, param_grid=param_grid_rf, cv=5, n_jobs=-1)\n",
        "grid_rf.fit(X_train, y_train)\n",
        "best_rf = grid_rf.best_estimator_\n",
        "print(\"Best Random Forest Model:\", best_rf)"
      ]
    },
    {
      "cell_type": "markdown",
      "metadata": {
        "id": "i_p3mtTKBOLg"
      },
      "source": [
        "4. Best Prediction Model"
      ]
    },
    {
      "cell_type": "code",
      "execution_count": 8,
      "metadata": {
        "colab": {
          "base_uri": "https://localhost:8080/"
        },
        "id": "b85IhKJdBRrh",
        "outputId": "057a6c18-5f06-45d9-9b37-a2a3233dd336"
      },
      "outputs": [
        {
          "name": "stdout",
          "output_type": "stream",
          "text": [
            "Best Decision Tree Model:\n",
            "Accuracy: 0.9393346379647749\n",
            "Classification Report:\n",
            "              precision    recall  f1-score   support\n",
            "\n",
            "         0.0       0.94      1.00      0.97       960\n",
            "         1.0       0.00      0.00      0.00        62\n",
            "\n",
            "    accuracy                           0.94      1022\n",
            "   macro avg       0.47      0.50      0.48      1022\n",
            "weighted avg       0.88      0.94      0.91      1022\n",
            "\n",
            "Confusion Matrix:\n",
            "[[960   0]\n",
            " [ 62   0]]\n"
          ]
        },
        {
          "name": "stderr",
          "output_type": "stream",
          "text": [
            "/usr/local/lib/python3.10/dist-packages/sklearn/metrics/_classification.py:1344: UndefinedMetricWarning: Precision and F-score are ill-defined and being set to 0.0 in labels with no predicted samples. Use `zero_division` parameter to control this behavior.\n",
            "  _warn_prf(average, modifier, msg_start, len(result))\n",
            "/usr/local/lib/python3.10/dist-packages/sklearn/metrics/_classification.py:1344: UndefinedMetricWarning: Precision and F-score are ill-defined and being set to 0.0 in labels with no predicted samples. Use `zero_division` parameter to control this behavior.\n",
            "  _warn_prf(average, modifier, msg_start, len(result))\n",
            "/usr/local/lib/python3.10/dist-packages/sklearn/metrics/_classification.py:1344: UndefinedMetricWarning: Precision and F-score are ill-defined and being set to 0.0 in labels with no predicted samples. Use `zero_division` parameter to control this behavior.\n",
            "  _warn_prf(average, modifier, msg_start, len(result))\n"
          ]
        },
        {
          "name": "stdout",
          "output_type": "stream",
          "text": [
            "Best Random Forest Model:\n",
            "Accuracy: 0.9393346379647749\n",
            "Classification Report:\n",
            "              precision    recall  f1-score   support\n",
            "\n",
            "         0.0       0.94      1.00      0.97       960\n",
            "         1.0       0.00      0.00      0.00        62\n",
            "\n",
            "    accuracy                           0.94      1022\n",
            "   macro avg       0.47      0.50      0.48      1022\n",
            "weighted avg       0.88      0.94      0.91      1022\n",
            "\n",
            "Confusion Matrix:\n",
            "[[960   0]\n",
            " [ 62   0]]\n"
          ]
        },
        {
          "name": "stderr",
          "output_type": "stream",
          "text": [
            "/usr/local/lib/python3.10/dist-packages/sklearn/metrics/_classification.py:1344: UndefinedMetricWarning: Precision and F-score are ill-defined and being set to 0.0 in labels with no predicted samples. Use `zero_division` parameter to control this behavior.\n",
            "  _warn_prf(average, modifier, msg_start, len(result))\n",
            "/usr/local/lib/python3.10/dist-packages/sklearn/metrics/_classification.py:1344: UndefinedMetricWarning: Precision and F-score are ill-defined and being set to 0.0 in labels with no predicted samples. Use `zero_division` parameter to control this behavior.\n",
            "  _warn_prf(average, modifier, msg_start, len(result))\n",
            "/usr/local/lib/python3.10/dist-packages/sklearn/metrics/_classification.py:1344: UndefinedMetricWarning: Precision and F-score are ill-defined and being set to 0.0 in labels with no predicted samples. Use `zero_division` parameter to control this behavior.\n",
            "  _warn_prf(average, modifier, msg_start, len(result))\n"
          ]
        }
      ],
      "source": [
        "# Decision Tree\n",
        "y_pred_best_dt = best_dt.predict(X_test)\n",
        "print(\"Best Decision Tree Model:\")\n",
        "evaluate_model(y_test, y_pred_best_dt)\n",
        "\n",
        "# Random Forest\n",
        "y_pred_best_rf = best_rf.predict(X_test)\n",
        "print(\"Best Random Forest Model:\")\n",
        "evaluate_model(y_test, y_pred_best_rf)"
      ]
    }
  ],
  "metadata": {
    "colab": {
      "provenance": []
    },
    "kernelspec": {
      "display_name": "Python 3",
      "name": "python3"
    },
    "language_info": {
      "name": "python",
      "version": "3.11.9"
    }
  },
  "nbformat": 4,
  "nbformat_minor": 0
}
